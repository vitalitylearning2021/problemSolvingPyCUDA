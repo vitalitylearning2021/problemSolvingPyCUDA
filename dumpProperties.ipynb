{
  "nbformat": 4,
  "nbformat_minor": 0,
  "metadata": {
    "colab": {
      "name": "dumpProperties.ipynb",
      "provenance": []
    },
    "kernelspec": {
      "name": "python3",
      "display_name": "Python 3"
    },
    "accelerator": "GPU"
  },
  "cells": [
    {
      "cell_type": "code",
      "metadata": {
        "id": "8IOYbf8rVmJR",
        "colab_type": "code",
        "outputId": "aec6b849-d384-47f4-e59a-9aa104accdb8",
        "colab": {
          "base_uri": "https://localhost:8080/",
          "height": 153
        }
      },
      "source": [
        "!pip install pycuda"
      ],
      "execution_count": 1,
      "outputs": [
        {
          "output_type": "stream",
          "text": [
            "Requirement already satisfied: pycuda in /usr/local/lib/python3.6/dist-packages (2019.1.2)\n",
            "Requirement already satisfied: pytools>=2011.2 in /usr/local/lib/python3.6/dist-packages (from pycuda) (2020.1)\n",
            "Requirement already satisfied: mako in /usr/local/lib/python3.6/dist-packages (from pycuda) (1.1.2)\n",
            "Requirement already satisfied: appdirs>=1.4.0 in /usr/local/lib/python3.6/dist-packages (from pycuda) (1.4.3)\n",
            "Requirement already satisfied: decorator>=3.2.0 in /usr/local/lib/python3.6/dist-packages (from pycuda) (4.4.2)\n",
            "Requirement already satisfied: numpy>=1.6.0 in /usr/local/lib/python3.6/dist-packages (from pytools>=2011.2->pycuda) (1.18.3)\n",
            "Requirement already satisfied: six>=1.8.0 in /usr/local/lib/python3.6/dist-packages (from pytools>=2011.2->pycuda) (1.12.0)\n",
            "Requirement already satisfied: MarkupSafe>=0.9.2 in /usr/local/lib/python3.6/dist-packages (from mako->pycuda) (1.1.1)\n"
          ],
          "name": "stdout"
        }
      ]
    },
    {
      "cell_type": "code",
      "metadata": {
        "id": "2A1Q53gCVkq0",
        "colab_type": "code",
        "outputId": "adf967cf-8741-4e23-ae24-9e3af0047e9c",
        "colab": {
          "base_uri": "https://localhost:8080/",
          "height": 1000
        }
      },
      "source": [
        "# --- PyCUDA initialization\n",
        "import pycuda.driver as cuda\n",
        "import pycuda.autoinit\n",
        "\n",
        "print(\"%d device(s) found.\" % cuda.Device.count())\n",
        " \n",
        "dev = cuda.Device(0)\n",
        "print(\"Device: %s\", dev.name())\n",
        "print(\"  Compute Capability: %d.%d\" % dev.compute_capability())\n",
        "print(\"  Total Memory: %s KB\" % (dev.total_memory()//(1024)))\n",
        "atts = [(str(att), value)\n",
        "          for att, value in dev.get_attributes().items()]\n",
        "atts.sort()\n",
        "   \n",
        "for att, value in atts:\n",
        "  print(\"  %s: %s\" % (att, value))"
      ],
      "execution_count": 2,
      "outputs": [
        {
          "output_type": "stream",
          "text": [
            "1 device(s) found.\n",
            "Device: %s Tesla P100-PCIE-16GB\n",
            "  Compute Capability: 6.0\n",
            "  Total Memory: 16671616 KB\n",
            "  ASYNC_ENGINE_COUNT: 2\n",
            "  CAN_MAP_HOST_MEMORY: 1\n",
            "  CLOCK_RATE: 1328500\n",
            "  COMPUTE_CAPABILITY_MAJOR: 6\n",
            "  COMPUTE_CAPABILITY_MINOR: 0\n",
            "  COMPUTE_MODE: DEFAULT\n",
            "  CONCURRENT_KERNELS: 1\n",
            "  ECC_ENABLED: 1\n",
            "  GLOBAL_L1_CACHE_SUPPORTED: 1\n",
            "  GLOBAL_MEMORY_BUS_WIDTH: 4096\n",
            "  GPU_OVERLAP: 1\n",
            "  INTEGRATED: 0\n",
            "  KERNEL_EXEC_TIMEOUT: 0\n",
            "  L2_CACHE_SIZE: 4194304\n",
            "  LOCAL_L1_CACHE_SUPPORTED: 1\n",
            "  MANAGED_MEMORY: 1\n",
            "  MAXIMUM_SURFACE1D_LAYERED_LAYERS: 2048\n",
            "  MAXIMUM_SURFACE1D_LAYERED_WIDTH: 32768\n",
            "  MAXIMUM_SURFACE1D_WIDTH: 32768\n",
            "  MAXIMUM_SURFACE2D_HEIGHT: 65536\n",
            "  MAXIMUM_SURFACE2D_LAYERED_HEIGHT: 32768\n",
            "  MAXIMUM_SURFACE2D_LAYERED_LAYERS: 2048\n",
            "  MAXIMUM_SURFACE2D_LAYERED_WIDTH: 32768\n",
            "  MAXIMUM_SURFACE2D_WIDTH: 131072\n",
            "  MAXIMUM_SURFACE3D_DEPTH: 16384\n",
            "  MAXIMUM_SURFACE3D_HEIGHT: 16384\n",
            "  MAXIMUM_SURFACE3D_WIDTH: 16384\n",
            "  MAXIMUM_SURFACECUBEMAP_LAYERED_LAYERS: 2046\n",
            "  MAXIMUM_SURFACECUBEMAP_LAYERED_WIDTH: 32768\n",
            "  MAXIMUM_SURFACECUBEMAP_WIDTH: 32768\n",
            "  MAXIMUM_TEXTURE1D_LAYERED_LAYERS: 2048\n",
            "  MAXIMUM_TEXTURE1D_LAYERED_WIDTH: 32768\n",
            "  MAXIMUM_TEXTURE1D_LINEAR_WIDTH: 134217728\n",
            "  MAXIMUM_TEXTURE1D_MIPMAPPED_WIDTH: 16384\n",
            "  MAXIMUM_TEXTURE1D_WIDTH: 131072\n",
            "  MAXIMUM_TEXTURE2D_ARRAY_HEIGHT: 32768\n",
            "  MAXIMUM_TEXTURE2D_ARRAY_NUMSLICES: 2048\n",
            "  MAXIMUM_TEXTURE2D_ARRAY_WIDTH: 32768\n",
            "  MAXIMUM_TEXTURE2D_GATHER_HEIGHT: 32768\n",
            "  MAXIMUM_TEXTURE2D_GATHER_WIDTH: 32768\n",
            "  MAXIMUM_TEXTURE2D_HEIGHT: 65536\n",
            "  MAXIMUM_TEXTURE2D_LINEAR_HEIGHT: 65000\n",
            "  MAXIMUM_TEXTURE2D_LINEAR_PITCH: 2097120\n",
            "  MAXIMUM_TEXTURE2D_LINEAR_WIDTH: 131072\n",
            "  MAXIMUM_TEXTURE2D_MIPMAPPED_HEIGHT: 32768\n",
            "  MAXIMUM_TEXTURE2D_MIPMAPPED_WIDTH: 32768\n",
            "  MAXIMUM_TEXTURE2D_WIDTH: 131072\n",
            "  MAXIMUM_TEXTURE3D_DEPTH: 16384\n",
            "  MAXIMUM_TEXTURE3D_DEPTH_ALTERNATE: 32768\n",
            "  MAXIMUM_TEXTURE3D_HEIGHT: 16384\n",
            "  MAXIMUM_TEXTURE3D_HEIGHT_ALTERNATE: 8192\n",
            "  MAXIMUM_TEXTURE3D_WIDTH: 16384\n",
            "  MAXIMUM_TEXTURE3D_WIDTH_ALTERNATE: 8192\n",
            "  MAXIMUM_TEXTURECUBEMAP_LAYERED_LAYERS: 2046\n",
            "  MAXIMUM_TEXTURECUBEMAP_LAYERED_WIDTH: 32768\n",
            "  MAXIMUM_TEXTURECUBEMAP_WIDTH: 32768\n",
            "  MAX_BLOCK_DIM_X: 1024\n",
            "  MAX_BLOCK_DIM_Y: 1024\n",
            "  MAX_BLOCK_DIM_Z: 64\n",
            "  MAX_GRID_DIM_X: 2147483647\n",
            "  MAX_GRID_DIM_Y: 65535\n",
            "  MAX_GRID_DIM_Z: 65535\n",
            "  MAX_PITCH: 2147483647\n",
            "  MAX_REGISTERS_PER_BLOCK: 65536\n",
            "  MAX_REGISTERS_PER_MULTIPROCESSOR: 65536\n",
            "  MAX_SHARED_MEMORY_PER_BLOCK: 49152\n",
            "  MAX_SHARED_MEMORY_PER_MULTIPROCESSOR: 65536\n",
            "  MAX_THREADS_PER_BLOCK: 1024\n",
            "  MAX_THREADS_PER_MULTIPROCESSOR: 2048\n",
            "  MEMORY_CLOCK_RATE: 715000\n",
            "  MULTIPROCESSOR_COUNT: 56\n",
            "  MULTI_GPU_BOARD: 0\n",
            "  MULTI_GPU_BOARD_GROUP_ID: 0\n",
            "  PCI_BUS_ID: 0\n",
            "  PCI_DEVICE_ID: 4\n",
            "  PCI_DOMAIN_ID: 0\n",
            "  STREAM_PRIORITIES_SUPPORTED: 1\n",
            "  SURFACE_ALIGNMENT: 512\n",
            "  TCC_DRIVER: 0\n",
            "  TEXTURE_ALIGNMENT: 512\n",
            "  TEXTURE_PITCH_ALIGNMENT: 32\n",
            "  TOTAL_CONSTANT_MEMORY: 65536\n",
            "  UNIFIED_ADDRESSING: 1\n",
            "  WARP_SIZE: 32\n"
          ],
          "name": "stdout"
        }
      ]
    }
  ]
}