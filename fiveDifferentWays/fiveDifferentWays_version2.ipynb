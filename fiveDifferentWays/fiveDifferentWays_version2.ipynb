{
  "nbformat": 4,
  "nbformat_minor": 0,
  "metadata": {
    "colab": {
      "name": "fiveDifferentWays_version2.ipynb",
      "provenance": [],
      "toc_visible": true
    },
    "kernelspec": {
      "name": "python3",
      "display_name": "Python 3"
    },
    "accelerator": "GPU"
  },
  "cells": [
    {
      "cell_type": "markdown",
      "metadata": {
        "id": "dhZ0D1XGsTDa",
        "colab_type": "text"
      },
      "source": [
        "# PyCUDA installation"
      ]
    },
    {
      "cell_type": "code",
      "metadata": {
        "id": "cmIWli6AsNl6",
        "colab_type": "code",
        "outputId": "4965c09e-bf56-48c0-b481-67a448bff79e",
        "colab": {
          "base_uri": "https://localhost:8080/",
          "height": 442
        }
      },
      "source": [
        "!pip install pycuda"
      ],
      "execution_count": 1,
      "outputs": [
        {
          "output_type": "stream",
          "text": [
            "Collecting pycuda\n",
            "\u001b[?25l  Downloading https://files.pythonhosted.org/packages/5e/3f/5658c38579b41866ba21ee1b5020b8225cec86fe717e4b1c5c972de0a33c/pycuda-2019.1.2.tar.gz (1.6MB)\n",
            "\u001b[K     |████████████████████████████████| 1.6MB 5.1MB/s \n",
            "\u001b[?25hCollecting pytools>=2011.2\n",
            "\u001b[?25l  Downloading https://files.pythonhosted.org/packages/66/c7/88a4f8b6f0f78d0115ec3320861a0cc1f6daa3b67e97c3c2842c33f9c089/pytools-2020.1.tar.gz (60kB)\n",
            "\u001b[K     |████████████████████████████████| 61kB 10.0MB/s \n",
            "\u001b[?25hRequirement already satisfied: decorator>=3.2.0 in /usr/local/lib/python3.6/dist-packages (from pycuda) (4.4.2)\n",
            "Collecting appdirs>=1.4.0\n",
            "  Downloading https://files.pythonhosted.org/packages/56/eb/810e700ed1349edde4cbdc1b2a21e28cdf115f9faf263f6bbf8447c1abf3/appdirs-1.4.3-py2.py3-none-any.whl\n",
            "Collecting mako\n",
            "\u001b[?25l  Downloading https://files.pythonhosted.org/packages/50/78/f6ade1e18aebda570eed33b7c534378d9659351cadce2fcbc7b31be5f615/Mako-1.1.2-py2.py3-none-any.whl (75kB)\n",
            "\u001b[K     |████████████████████████████████| 81kB 11.3MB/s \n",
            "\u001b[?25hRequirement already satisfied: six>=1.8.0 in /usr/local/lib/python3.6/dist-packages (from pytools>=2011.2->pycuda) (1.12.0)\n",
            "Requirement already satisfied: numpy>=1.6.0 in /usr/local/lib/python3.6/dist-packages (from pytools>=2011.2->pycuda) (1.18.3)\n",
            "Requirement already satisfied: MarkupSafe>=0.9.2 in /usr/local/lib/python3.6/dist-packages (from mako->pycuda) (1.1.1)\n",
            "Building wheels for collected packages: pycuda, pytools\n",
            "  Building wheel for pycuda (setup.py) ... \u001b[?25l\u001b[?25hdone\n",
            "  Created wheel for pycuda: filename=pycuda-2019.1.2-cp36-cp36m-linux_x86_64.whl size=4537284 sha256=95e3db4596ab5dc4b2b12a5ffb51d7d51c73c9e725a4fe8db66494a60a18d33b\n",
            "  Stored in directory: /root/.cache/pip/wheels/a6/60/f0/b1c430c73d281ac3e46070480db50f7907364eb6f6d3188396\n",
            "  Building wheel for pytools (setup.py) ... \u001b[?25l\u001b[?25hdone\n",
            "  Created wheel for pytools: filename=pytools-2020.1-py2.py3-none-any.whl size=59602 sha256=49e7b40724f88a0a4fe88cae86afe35588331e1bc6b180ecdabffab54fd9dd4b\n",
            "  Stored in directory: /root/.cache/pip/wheels/6f/da/1b/946775a88291378182ed92c9800d6d0ebc2a554cb89829cc24\n",
            "Successfully built pycuda pytools\n",
            "Installing collected packages: appdirs, pytools, mako, pycuda\n",
            "Successfully installed appdirs-1.4.3 mako-1.1.2 pycuda-2019.1.2 pytools-2020.1\n"
          ],
          "name": "stdout"
        }
      ]
    },
    {
      "cell_type": "markdown",
      "metadata": {
        "id": "JQ-Bub0esevi",
        "colab_type": "text"
      },
      "source": [
        "\n",
        "\n",
        "---\n"
      ]
    },
    {
      "cell_type": "markdown",
      "metadata": {
        "id": "j68HV07wsrjz",
        "colab_type": "text"
      },
      "source": [
        "# Version #2: using using ```SourceModule``` and copying data from host to device on-the-fly\n"
      ]
    },
    {
      "cell_type": "markdown",
      "metadata": {
        "id": "SAKaB0Cvur0q",
        "colab_type": "text"
      },
      "source": [
        "The following initial code portion is the same as for Version #1."
      ]
    },
    {
      "cell_type": "code",
      "metadata": {
        "id": "crVMdLRRsExU",
        "colab_type": "code",
        "colab": {}
      },
      "source": [
        "import numpy as np\n",
        "\n",
        "import pycuda.driver as cuda\n",
        "import pycuda.autoinit\n",
        "from pycuda.compiler import SourceModule\n",
        "\n",
        "###################\n",
        "# iDivUp FUNCTION #\n",
        "###################\n",
        "def iDivUp(a, b):\n",
        "    # Round a / b to nearest higher integer value\n",
        "    a = np.int32(a)\n",
        "    b = np.int32(b)\n",
        "    return (a / b + 1) if (a % b != 0) else (a / b)\n",
        "\n",
        "########\n",
        "# MAIN #\n",
        "########\n",
        "\n",
        "start = cuda.Event()\n",
        "end   = cuda.Event()\n",
        "\n",
        "N = 100000\n",
        "\n",
        "BLOCKSIZE = 256\n",
        "\n",
        "h_a = np.random.randn(1, N)\n",
        "h_b = np.random.randn(1, N)\n",
        "\n",
        "h_a = h_a.astype(np.float32)\n",
        "h_b = h_b.astype(np.float32)\n",
        "h_c = np.empty_like(h_a)\n",
        "\n",
        "mod = SourceModule(\"\"\"\n",
        "__global__ void deviceAdd(float * __restrict__ d_c, const float * __restrict__ d_a, \n",
        "                                                    const float * __restrict__ d_b,\n",
        "                                                    const int N)\n",
        "{\n",
        "  const int tid = threadIdx.x + blockIdx.x * blockDim.x;\n",
        "  if (tid >= N) return;\n",
        "  d_c[tid] = d_a[tid] + d_b[tid];\n",
        "}\n",
        "\"\"\")\n",
        "\n",
        "deviceAdd = mod.get_function(\"deviceAdd\")\n",
        "blockDim  = (BLOCKSIZE, 1, 1)\n",
        "gridDim   = (int(iDivUp(N, BLOCKSIZE)), 1, 1)"
      ],
      "execution_count": 0,
      "outputs": []
    },
    {
      "cell_type": "markdown",
      "metadata": {
        "id": "oqlria7StG47",
        "colab_type": "text"
      },
      "source": [
        "The only difference with Version #1 is the use of ```cuda.In``` and ```cuda.Out``` when calling ```deviceAdd```. The former performs on-the-fly copies of ```h_a``` and ```h_b``` from host to device, while the latter copies the result of the processing to ```h_c```. This avoids the need of an explicit allocation of GPU memory space."
      ]
    },
    {
      "cell_type": "code",
      "metadata": {
        "id": "wQZMp2FotEHD",
        "colab_type": "code",
        "outputId": "91463ccc-c2f3-4394-903e-57aa34158c80",
        "colab": {
          "base_uri": "https://localhost:8080/",
          "height": 34
        }
      },
      "source": [
        "# --- Warmup execution\n",
        "deviceAdd(cuda.Out(h_c), cuda.In(h_a), cuda.In(h_b), np.int32(N), block = blockDim, grid = gridDim)\n",
        "\n",
        "start.record()\n",
        "deviceAdd(cuda.Out(h_c), cuda.In(h_a), cuda.In(h_b), np.int32(N), block = blockDim, grid = gridDim)\n",
        "end.record() \n",
        "end.synchronize()\n",
        "secs = start.time_till(end) * 1e-3\n",
        "print(\"Processing time = %fs\" % (secs))"
      ],
      "execution_count": 3,
      "outputs": [
        {
          "output_type": "stream",
          "text": [
            "Processing time = 0.000964s\n"
          ],
          "name": "stdout"
        }
      ]
    },
    {
      "cell_type": "markdown",
      "metadata": {
        "id": "IxuCUw56uyMD",
        "colab_type": "text"
      },
      "source": [
        "The last code portion is again the same as for Version #1."
      ]
    },
    {
      "cell_type": "code",
      "metadata": {
        "id": "S6gNj3Elupg0",
        "colab_type": "code",
        "outputId": "bc9ded50-1578-4bfc-af0f-e024c94c56ce",
        "colab": {
          "base_uri": "https://localhost:8080/",
          "height": 34
        }
      },
      "source": [
        "if np.array_equal(h_c, h_a + h_b):\n",
        "  print(\"Test passed!\")\n",
        "else :\n",
        "  print(\"Error!\")\n",
        "\n",
        "cuda.Context.synchronize()"
      ],
      "execution_count": 4,
      "outputs": [
        {
          "output_type": "stream",
          "text": [
            "Test passed!\n"
          ],
          "name": "stdout"
        }
      ]
    }
  ]
}
