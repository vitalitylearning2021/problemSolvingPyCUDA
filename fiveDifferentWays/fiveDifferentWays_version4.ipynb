{
  "nbformat": 4,
  "nbformat_minor": 0,
  "metadata": {
    "colab": {
      "name": "fiveDifferentWays_version4.ipynb",
      "provenance": []
    },
    "kernelspec": {
      "name": "python3",
      "display_name": "Python 3"
    },
    "accelerator": "GPU"
  },
  "cells": [
    {
      "cell_type": "markdown",
      "metadata": {
        "id": "SVu3CeYsZjlg",
        "colab_type": "text"
      },
      "source": [
        "# PyCUDA installation"
      ]
    },
    {
      "cell_type": "code",
      "metadata": {
        "id": "DG6ck3vGZceu",
        "colab_type": "code",
        "outputId": "53607b36-c345-47aa-fb73-56331f8aa7a9",
        "colab": {
          "base_uri": "https://localhost:8080/",
          "height": 442
        }
      },
      "source": [
        "!pip install pycuda"
      ],
      "execution_count": 0,
      "outputs": [
        {
          "output_type": "stream",
          "text": [
            "Collecting pycuda\n",
            "\u001b[?25l  Downloading https://files.pythonhosted.org/packages/5e/3f/5658c38579b41866ba21ee1b5020b8225cec86fe717e4b1c5c972de0a33c/pycuda-2019.1.2.tar.gz (1.6MB)\n",
            "\u001b[K     |████████████████████████████████| 1.6MB 36.5MB/s \n",
            "\u001b[?25hCollecting pytools>=2011.2\n",
            "\u001b[?25l  Downloading https://files.pythonhosted.org/packages/66/c7/88a4f8b6f0f78d0115ec3320861a0cc1f6daa3b67e97c3c2842c33f9c089/pytools-2020.1.tar.gz (60kB)\n",
            "\u001b[K     |████████████████████████████████| 61kB 9.4MB/s \n",
            "\u001b[?25hRequirement already satisfied: decorator>=3.2.0 in /usr/local/lib/python3.6/dist-packages (from pycuda) (4.4.2)\n",
            "Collecting appdirs>=1.4.0\n",
            "  Downloading https://files.pythonhosted.org/packages/56/eb/810e700ed1349edde4cbdc1b2a21e28cdf115f9faf263f6bbf8447c1abf3/appdirs-1.4.3-py2.py3-none-any.whl\n",
            "Collecting mako\n",
            "\u001b[?25l  Downloading https://files.pythonhosted.org/packages/50/78/f6ade1e18aebda570eed33b7c534378d9659351cadce2fcbc7b31be5f615/Mako-1.1.2-py2.py3-none-any.whl (75kB)\n",
            "\u001b[K     |████████████████████████████████| 81kB 12.4MB/s \n",
            "\u001b[?25hRequirement already satisfied: six>=1.8.0 in /usr/local/lib/python3.6/dist-packages (from pytools>=2011.2->pycuda) (1.12.0)\n",
            "Requirement already satisfied: numpy>=1.6.0 in /usr/local/lib/python3.6/dist-packages (from pytools>=2011.2->pycuda) (1.18.3)\n",
            "Requirement already satisfied: MarkupSafe>=0.9.2 in /usr/local/lib/python3.6/dist-packages (from mako->pycuda) (1.1.1)\n",
            "Building wheels for collected packages: pycuda, pytools\n",
            "  Building wheel for pycuda (setup.py) ... \u001b[?25l\u001b[?25hdone\n",
            "  Created wheel for pycuda: filename=pycuda-2019.1.2-cp36-cp36m-linux_x86_64.whl size=4536334 sha256=b6b509f5febbbda89adff36827afd1b9aeec3c42840b33a3e171cf6a661a9d2d\n",
            "  Stored in directory: /root/.cache/pip/wheels/a6/60/f0/b1c430c73d281ac3e46070480db50f7907364eb6f6d3188396\n",
            "  Building wheel for pytools (setup.py) ... \u001b[?25l\u001b[?25hdone\n",
            "  Created wheel for pytools: filename=pytools-2020.1-py2.py3-none-any.whl size=59602 sha256=097cfe51e0d0eb651553e52f27aa95a2c4c5500cec582328e61dcf050f1bcf0e\n",
            "  Stored in directory: /root/.cache/pip/wheels/6f/da/1b/946775a88291378182ed92c9800d6d0ebc2a554cb89829cc24\n",
            "Successfully built pycuda pytools\n",
            "Installing collected packages: appdirs, pytools, mako, pycuda\n",
            "Successfully installed appdirs-1.4.3 mako-1.1.2 pycuda-2019.1.2 pytools-2020.1\n"
          ],
          "name": "stdout"
        }
      ]
    },
    {
      "cell_type": "markdown",
      "metadata": {
        "id": "dwusg2czZ9ZG",
        "colab_type": "text"
      },
      "source": [
        "\n",
        "\n",
        "---\n",
        "\n"
      ]
    },
    {
      "cell_type": "markdown",
      "metadata": {
        "id": "Kem84FfyZ-fU",
        "colab_type": "text"
      },
      "source": [
        "# Version 4: using ```ElementwiseKernel```"
      ]
    },
    {
      "cell_type": "markdown",
      "metadata": {
        "id": "yvofD-5ca9v-",
        "colab_type": "text"
      },
      "source": [
        "The first part of the code is the usual one."
      ]
    },
    {
      "cell_type": "code",
      "metadata": {
        "id": "c8hvOunBaJHG",
        "colab_type": "code",
        "colab": {}
      },
      "source": [
        "import numpy as np\n",
        "\n",
        "import pycuda.driver as cuda\n",
        "import pycuda.autoinit\n",
        "import pycuda.gpuarray as gpuarray\n",
        "\n",
        "########\n",
        "# MAIN #\n",
        "########\n",
        "\n",
        "start = cuda.Event()\n",
        "end   = cuda.Event()\n",
        "\n",
        "N = 100000\n",
        "\n",
        "h_a = np.random.randn(1, N)\n",
        "h_b = np.random.randn(1, N)\n",
        "\n",
        "h_a = h_a.astype(np.float32)\n",
        "h_b = h_b.astype(np.float32)\n",
        "\n",
        "d_a = gpuarray.to_gpu(h_a)\n",
        "d_b = gpuarray.to_gpu(h_b)"
      ],
      "execution_count": 0,
      "outputs": []
    },
    {
      "cell_type": "markdown",
      "metadata": {
        "id": "o3FhI_S_boJX",
        "colab_type": "text"
      },
      "source": [
        "In this example, ```d_c``` is explicitly defined. This is necessary for the use of the ```ElementwiseKernel``` module."
      ]
    },
    {
      "cell_type": "code",
      "metadata": {
        "id": "cpzx7eajbo0N",
        "colab_type": "code",
        "colab": {}
      },
      "source": [
        "d_c = gpuarray.empty_like(d_a)"
      ],
      "execution_count": 0,
      "outputs": []
    },
    {
      "cell_type": "markdown",
      "metadata": {
        "id": "VnN2716xbzk9",
        "colab_type": "text"
      },
      "source": [
        "Load the ```ElementwiseKernel``` module."
      ]
    },
    {
      "cell_type": "code",
      "metadata": {
        "id": "NMPzKKoRbz7E",
        "colab_type": "code",
        "colab": {}
      },
      "source": [
        "from pycuda.elementwise import ElementwiseKernel"
      ],
      "execution_count": 0,
      "outputs": []
    },
    {
      "cell_type": "markdown",
      "metadata": {
        "id": "o3oZUt9scf0G",
        "colab_type": "text"
      },
      "source": [
        "The ```ElementwiseKernel``` enables to define only the kernel instructions to be elementwise executed within the kernel. Here, to generalize Version #1, a general linear combination between ```d_a``` and ```d_b``` is considered. A reference to the elementwise kernel is defined in ```lin_comb```.\n"
      ]
    },
    {
      "cell_type": "code",
      "metadata": {
        "id": "4v_ncnJKcgPs",
        "colab_type": "code",
        "colab": {}
      },
      "source": [
        "lin_comb = ElementwiseKernel(\n",
        "        \"float *d_c, float *d_a, float *d_b, float a, float b\",\n",
        "        \"d_c[i] = a * d_a[i] + b * d_b[i]\")"
      ],
      "execution_count": 0,
      "outputs": []
    },
    {
      "cell_type": "markdown",
      "metadata": {
        "id": "AQKGJciLtxvs",
        "colab_type": "text"
      },
      "source": [
        "Invoke the ```lin_comb``` function."
      ]
    },
    {
      "cell_type": "code",
      "metadata": {
        "id": "mIYnhKO5tw-m",
        "colab_type": "code",
        "outputId": "2473d391-8611-4513-8ff1-ba3cd3466895",
        "colab": {
          "base_uri": "https://localhost:8080/",
          "height": 34
        }
      },
      "source": [
        "# --- Warmup execution\n",
        "lin_comb(d_c, d_a, d_b, 2, 3)\n",
        "\n",
        "start.record()\n",
        "lin_comb(d_c, d_a, d_b, 2, 3)\n",
        "end.record() \n",
        "end.synchronize()\n",
        "secs = start.time_till(end) * 1e-3\n",
        "print(\"Processing time = %fs\" % (secs))"
      ],
      "execution_count": 0,
      "outputs": [
        {
          "output_type": "stream",
          "text": [
            "Processing time = 0.000092s\n"
          ],
          "name": "stdout"
        }
      ]
    },
    {
      "cell_type": "markdown",
      "metadata": {
        "id": "P4lr_HlFueTE",
        "colab_type": "text"
      },
      "source": [
        "The last part is as usual."
      ]
    },
    {
      "cell_type": "code",
      "metadata": {
        "id": "_C9ri1HvudJu",
        "colab_type": "code",
        "outputId": "9b8ab6c2-18e1-450b-ccf7-c87087b8869e",
        "colab": {
          "base_uri": "https://localhost:8080/",
          "height": 34
        }
      },
      "source": [
        "h_c = d_c.get()\n",
        "\n",
        "if np.array_equal(h_c, 2 * h_a + 3 * h_b):\n",
        "  print(\"Test passed!\")\n",
        "else :\n",
        "  print(\"Error!\")\n",
        "\n",
        "cuda.Context.synchronize()"
      ],
      "execution_count": 0,
      "outputs": [
        {
          "output_type": "stream",
          "text": [
            "Test passed!\n"
          ],
          "name": "stdout"
        }
      ]
    }
  ]
}
